{
 "cells": [
  {
   "cell_type": "markdown",
   "id": "bb3e45b2-3ef5-4394-bded-8e1b62c8e562",
   "metadata": {},
   "source": [
    "# Test of `kymatio-mod`"
   ]
  },
  {
   "cell_type": "code",
   "execution_count": 9,
   "id": "2c828026-bbab-40e1-808c-5989ec7f3cb4",
   "metadata": {},
   "outputs": [],
   "source": [
    "import kymatiomod\n",
    "from kymatiomod.tensorflow import HarmonicScattering2D\n"
   ]
  },
  {
   "cell_type": "code",
   "execution_count": 10,
   "id": "b8e51f90-825f-4c58-ab5f-4277ef4ec755",
   "metadata": {},
   "outputs": [
    {
     "name": "stdout",
     "output_type": "stream",
     "text": [
      "<class 'kymatio.tensorflow.HarmonicScatteringTensorFlow2D'>\n"
     ]
    }
   ],
   "source": [
    "HarmonicScattering2D."
   ]
  }
 ],
 "metadata": {
  "kernelspec": {
   "display_name": "Python 3 (ipykernel)",
   "language": "python",
   "name": "python3"
  },
  "language_info": {
   "codemirror_mode": {
    "name": "ipython",
    "version": 3
   },
   "file_extension": ".py",
   "mimetype": "text/x-python",
   "name": "python",
   "nbconvert_exporter": "python",
   "pygments_lexer": "ipython3",
   "version": "3.12.3"
  }
 },
 "nbformat": 4,
 "nbformat_minor": 5
}
